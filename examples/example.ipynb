{
 "cells": [
  {
   "cell_type": "code",
   "execution_count": 1,
   "metadata": {
    "collapsed": true
   },
   "outputs": [],
   "source": [
    "from astred import *\n",
    "from astred.enum import *"
   ]
  },
  {
   "cell_type": "code",
   "execution_count": 2,
   "metadata": {
    "pycharm": {
     "name": "#%%\n"
    }
   },
   "outputs": [
    {
     "name": "stdout",
     "output_type": "stream",
     "text": [
      "[(0, 0, False), (1, 1, False), (2, 3, False), (3, 2, False), (7, 9, False), (10, 6, False), (13, 10, False)]\n",
      "[[Null(id=0, is_null=True, side=src)], [Word(id=1, is_null=False, side=src)], [Word(id=2, is_null=False, side=src)], [Word(id=3, is_null=False, side=src)], [Word(id=7, is_null=False, side=src), Word(id=8, is_null=False, side=src), Word(id=9, is_null=False, side=src)], [Word(id=10, is_null=False, side=src), Word(id=11, is_null=False, side=src)], [Word(id=13, is_null=False, side=src)]]\n",
      "[[Null(id=0, is_null=True, side=tgt)], [Word(id=1, is_null=False, side=tgt)], [Word(id=3, is_null=False, side=tgt)], [Word(id=2, is_null=False, side=tgt)], [Word(id=9, is_null=False, side=tgt)], [Word(id=6, is_null=False, side=tgt), Word(id=7, is_null=False, side=tgt)], [Word(id=10, is_null=False, side=tgt)]]\n"
     ]
    }
   ],
   "source": [
    "en_words = [(\"Sometimes\", 3, \"advmod\"), (\"she\", 3, \"nsubj\"), (\"asks\", 0, \"root\"), (\"me\", 3, \"obj\"), (\"why\", 7, \"advmod\"),\n",
    "            (\"I\", 7, \"nsubj\"), (\"used\", 3, \"ccomp\"), (\"to\", 9, \"mark\"), (\"call\", 7, \"xcomp\"), (\"her\", 11, \"nmod\"),\n",
    "            (\"father\", 9, \"obj\"), (\"Harold\", 9, \"xcomp\"), (\".\", 3, \"punct\")]\n",
    "sent_en = Sentence([Word(id=idx, text=w[0], head=w[1], deprel=w[2]) for idx, w in enumerate(en_words, 1)], side=Side.SRC)\n",
    "\n",
    "nl_words = [(\"Soms\", 2, \"advmod\"), (\"vraagt\", 0, \"root\"), (\"ze\", 2, \"nsubj\"),  (\"waarom\", 9, \"advmod\"),\n",
    "            (\"ik\", 9, \"nsubj\"), (\"haar\", 7, \"nmod\"), (\"vader\", 9, \"obj\"), (\"Harold\", 9, \"xcomp\"), (\"noemde\", 2, \"xcomp\"),  (\".\", 2, \"punct\")]\n",
    "sent_nl = Sentence([Word(id=idx, text=w[0], head=w[1], deprel=w[2]) for idx, w in enumerate(nl_words, 1)], side=Side.TGT)\n",
    "\n",
    "aligns = \"0-0 1-2 2-1 4-3 5-4 6-8 7-8 8-8 9-5 10-6 11-7 12-9\"\n",
    "aligned = AlignedSentences(sent_en, sent_nl, word_aligns=aligns)"
   ]
  },
  {
   "cell_type": "code",
   "execution_count": 3,
   "metadata": {
    "pycharm": {
     "name": "#%%\n"
    }
   },
   "outputs": [
    {
     "name": "stdout",
     "output_type": "stream",
     "text": [
      "word_cross 10\n",
      "seq_cross 2\n",
      "sacr_cross 3\n"
     ]
    }
   ],
   "source": [
    "print(\"word_cross\", aligned.word_cross)\n",
    "print(\"seq_cross\", aligned.seq_cross)\n",
    "print(\"sacr_cross\", aligned.sacr_cross)"
   ]
  },
  {
   "cell_type": "code",
   "execution_count": 4,
   "metadata": {
    "pycharm": {
     "name": "#%%\n"
    }
   },
   "outputs": [
    {
     "name": "stdout",
     "output_type": "stream",
     "text": [
      "text Sometimes\n",
      "word_cross 0\n",
      "seq_cross 0 ID in group: 0\n",
      "sacr_cross 0 ID in group: 0\n",
      "\n",
      "text she\n",
      "word_cross 1\n",
      "seq_cross 1 ID in group: 0\n",
      "sacr_cross 1 ID in group: 0\n",
      "\n",
      "text asks\n",
      "word_cross 1\n",
      "seq_cross 1 ID in group: 0\n",
      "sacr_cross 1 ID in group: 0\n",
      "\n",
      "text me\n",
      "word_cross 0\n",
      "seq_cross 0 ID in group: 0\n",
      "sacr_cross 0 ID in group: 0\n",
      "\n",
      "text why\n",
      "word_cross 0\n",
      "seq_cross 0 ID in group: 0\n",
      "sacr_cross 0 ID in group: 0\n",
      "\n",
      "text I\n",
      "word_cross 0\n",
      "seq_cross 0 ID in group: 1\n",
      "sacr_cross 0 ID in group: 0\n",
      "\n",
      "text used\n",
      "word_cross 3\n",
      "seq_cross 1 ID in group: 0\n",
      "sacr_cross 2 ID in group: 0\n",
      "\n",
      "text to\n",
      "word_cross 3\n",
      "seq_cross 1 ID in group: 1\n",
      "sacr_cross 2 ID in group: 1\n",
      "\n",
      "text call\n",
      "word_cross 3\n",
      "seq_cross 1 ID in group: 2\n",
      "sacr_cross 2 ID in group: 2\n",
      "\n",
      "text her\n",
      "word_cross 3\n",
      "seq_cross 1 ID in group: 0\n",
      "sacr_cross 1 ID in group: 0\n",
      "\n",
      "text father\n",
      "word_cross 3\n",
      "seq_cross 1 ID in group: 1\n",
      "sacr_cross 1 ID in group: 1\n",
      "\n",
      "text Harold\n",
      "word_cross 3\n",
      "seq_cross 1 ID in group: 2\n",
      "sacr_cross 1 ID in group: 0\n",
      "\n",
      "text .\n",
      "word_cross 0\n",
      "seq_cross 0 ID in group: 0\n",
      "sacr_cross 0 ID in group: 0\n",
      "\n"
     ]
    }
   ],
   "source": [
    "for word in sent_en:\n",
    "\tif not word.is_null:\n",
    "\t\tprint(\"text\", word.text)\n",
    "\t\tprint(\"word_cross\", word.cross)\n",
    "\t\tprint(\"seq_cross\", word.seq_group.cross, \"ID in group:\", word.id_in_seq_group)\n",
    "\t\tprint(\"sacr_cross\", word.sacr_group.cross, \"ID in group:\", word.id_in_sacr_group)\n",
    "\t\tprint()"
   ]
  },
  {
   "cell_type": "code",
   "execution_count": 5,
   "metadata": {
    "pycharm": {
     "name": "#%%\n"
    }
   },
   "outputs": [
    {
     "name": "stdout",
     "output_type": "stream",
     "text": [
      "Sometimes True\n",
      "she True\n",
      "asks True\n",
      "me True\n",
      "why I False\n",
      "used to call True\n",
      "her father Harold False\n",
      ". True\n",
      "\n",
      "Sometimes True\n",
      "she True\n",
      "asks True\n",
      "me True\n",
      "why True\n",
      "I True\n",
      "used to call True\n",
      "her father True\n",
      "Harold True\n",
      ". True\n"
     ]
    }
   ],
   "source": [
    "for span in sent_en.seq_spans:\n",
    "\tif not span.is_null:\n",
    "\t\tprint(span.text, span.is_valid_subtree)\n",
    "print()\n",
    "for span in sent_en.sacr_spans:\n",
    "\tif not span.is_null:\n",
    "\t\tprint(span.text, span.is_valid_subtree)"
   ]
  },
  {
   "cell_type": "code",
   "execution_count": 6,
   "metadata": {
    "pycharm": {
     "name": "#%%\n"
    }
   },
   "outputs": [
    {
     "name": "stdout",
     "output_type": "stream",
     "text": [
      "total changes for ('Sometimes', 'advmod'): 0\n",
      "Soms advmod False\n",
      "\n",
      "total changes for ('she', 'nsubj'): 0\n",
      "ze nsubj False\n",
      "\n",
      "total changes for ('asks', 'root'): 0\n",
      "vraagt root False\n",
      "\n",
      "total changes for ('me', 'obj'): 1\n",
      "[[NULL]] None True\n",
      "\n",
      "total changes for ('why', 'advmod'): 0\n",
      "waarom advmod False\n",
      "\n",
      "total changes for ('I', 'nsubj'): 0\n",
      "ik nsubj False\n",
      "\n",
      "total changes for ('used', 'ccomp'): 1\n",
      "noemde xcomp True\n",
      "\n",
      "total changes for ('to', 'mark'): 1\n",
      "noemde xcomp True\n",
      "\n",
      "total changes for ('call', 'xcomp'): 0\n",
      "noemde xcomp False\n",
      "\n",
      "total changes for ('her', 'nmod'): 0\n",
      "haar nmod False\n",
      "\n",
      "total changes for ('father', 'obj'): 0\n",
      "vader obj False\n",
      "\n",
      "total changes for ('Harold', 'xcomp'): 0\n",
      "Harold xcomp False\n",
      "\n",
      "total changes for ('.', 'punct'): 0\n",
      ". punct False\n",
      "\n"
     ]
    }
   ],
   "source": [
    "for word in sent_en:\n",
    "\tif not word.is_null:\n",
    "\t\tprint(f\"total changes for {word.text, word.deprel}: {word.num_changes()}\")\n",
    "\t\tfor tgt_idx, change in word.changes().items():\n",
    "\t\t\ttgt = sent_nl[tgt_idx]\n",
    "\t\t\tprint(tgt.text, tgt.deprel, change)\n",
    "\t\tprint()"
   ]
  },
  {
   "cell_type": "code",
   "execution_count": 7,
   "metadata": {
    "pycharm": {
     "name": "#%%\n"
    }
   },
   "outputs": [
    {
     "name": "stdout",
     "output_type": "stream",
     "text": [
      "[(0, 0, False), (1, 1, False), (2, 2, False), (4, 3, False), (5, 4, False)]\n",
      "[[Null(id=0, is_null=True, side=src)], [Word(id=1, is_null=False, side=src)], [Word(id=2, is_null=False, side=src)], [Word(id=4, is_null=False, side=src), Word(id=5, is_null=False, side=src)], [Word(id=5, is_null=False, side=src)]]\n",
      "[[Null(id=0, is_null=True, side=tgt)], [Word(id=1, is_null=False, side=tgt)], [Word(id=2, is_null=False, side=tgt)], [Word(id=3, is_null=False, side=tgt), Word(id=4, is_null=False, side=tgt), Word(id=5, is_null=False, side=tgt)], [Word(id=4, is_null=False, side=tgt), Word(id=5, is_null=False, side=tgt)]]\n"
     ]
    }
   ],
   "source": [
    "en_words = [(\"Does\", 3, \"aux\"), (\"he\", 3, \"nsubj\"), (\"believe\", 0, \"root\"), (\"in\", 5, \"case\"), (\"love\", 3, \"obl\"),\n",
    "            (\"?\", 3, \"punct\")]\n",
    "sent_en = Sentence([Word(id=idx, text=w[0], head=w[1], deprel=w[2]) for idx, w in enumerate(en_words, 1)], side=Side.SRC)\n",
    "\n",
    "nl_words = [(\"Gelooft\", 0, \"root\"), (\"hij\", 1, \"nsubj\"), (\"in\", 5, \"case\"),  (\"de\", 5, \"det\"),\n",
    "            (\"liefde\", 1, \"obl\"), (\"?\", 1, \"punct\")]\n",
    "sent_nl = Sentence([Word(id=idx, text=w[0], head=w[1], deprel=w[2]) for idx, w in enumerate(nl_words, 1)], side=Side.TGT)\n",
    "\n",
    "aligns = \"0-0 1-1 2-0 3-2 4-3 4-4 5-5\"\n",
    "aligned = AlignedSentences(sent_en, sent_nl, word_aligns=aligns)"
   ]
  },
  {
   "cell_type": "code",
   "execution_count": 8,
   "metadata": {
    "pycharm": {
     "name": "#%%\n"
    }
   },
   "outputs": [
    {
     "name": "stdout",
     "output_type": "stream",
     "text": [
      "ASTrED 2\n",
      "1.aux:1.root|3.root:1.root --> 1.aux:1.root|3.root:1.root --- match Cost 0\n",
      "1.aux:1.root|3.root:1.root --> None --- deletion Cost 1\n",
      "2.nsubj:2.nsubj --> 2.nsubj:2.nsubj --- match Cost 0\n",
      "5.obl:4.det,5.obl --> 5.obl:4.det,5.obl --- match Cost 0\n",
      "None --> 5.obl:4.det,5.obl --- insertion Cost 1\n",
      "4.case:3.case --> 4.case:3.case --- match Cost 0\n",
      "6.punct:6.punct --> 6.punct:6.punct --- match Cost 0\n"
     ]
    }
   ],
   "source": [
    "print(\"ASTrED\", aligned.ted)\n",
    "for node1, node2 in aligned.ted_ops:\n",
    "\tnode1_repr = node1.node.connected_repr if node1 else None\n",
    "\tnode2_repr = node2.node.connected_repr if node2 else None\n",
    "\n",
    "\tprint(node1_repr, \"-->\", node2_repr,\n",
    "\t\t  \"---\", node1.astred_op if node1 else EditOperation.INSERTION,\n",
    "\t\t  f\"Cost {node1.astred_cost if node1 else aligned.ted_config.costs[EditOperation.INSERTION]}\")"
   ]
  },
  {
   "cell_type": "code",
   "execution_count": 9,
   "metadata": {
    "pycharm": {
     "name": "#%%\n"
    }
   },
   "outputs": [
    {
     "name": "stdout",
     "output_type": "stream",
     "text": [
      "Does deletion\n",
      "he match\n",
      "believe match\n",
      "in match\n",
      "love match\n",
      "? match\n",
      "\n",
      "Gelooft match\n",
      "hij match\n",
      "in match\n",
      "de deletion\n",
      "liefde match\n",
      "? match\n"
     ]
    }
   ],
   "source": [
    "for word in sent_en:\n",
    "\tif not word.is_null:\n",
    "\t\tprint(word.text, word.tree.astred_op)\n",
    "print()\n",
    "for word in sent_nl:\n",
    "\tif not word.is_null:\n",
    "\t\tprint(word.text, word.tree.astred_op)"
   ]
  },
  {
   "cell_type": "code",
   "execution_count": 10,
   "outputs": [
    {
     "name": "stdout",
     "output_type": "stream",
     "text": [
      "Does Does\n",
      "he he\n",
      "believe believe\n",
      "in love ? None\n",
      "\n",
      " None sacr\n",
      "Does Does sacr\n",
      "he he sacr\n",
      "in love love sacr\n",
      "love love sacr\n",
      "? ? sacr\n"
     ]
    }
   ],
   "source": [
    "for span in sent_en.no_null_seq_spans:\n",
    "\tprint(span.text, span.tree.node.text if span.tree else None)\n",
    "print()\n",
    "for span in sent_en.sacr_spans:\n",
    "\tprint(span.text, span.tree.node.text if span.tree else None, span.span_type)"
   ],
   "metadata": {
    "collapsed": false,
    "pycharm": {
     "name": "#%%\n"
    }
   }
  }
 ],
 "metadata": {
  "kernelspec": {
   "display_name": "Python 3",
   "language": "python",
   "name": "python3"
  },
  "language_info": {
   "codemirror_mode": {
    "name": "ipython",
    "version": 3
   },
   "file_extension": ".py",
   "mimetype": "text/x-python",
   "name": "python",
   "nbconvert_exporter": "python",
   "pygments_lexer": "ipython3",
   "version": "3.8.2"
  }
 },
 "nbformat": 4,
 "nbformat_minor": 1
}