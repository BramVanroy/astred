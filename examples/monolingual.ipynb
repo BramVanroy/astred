{
 "cells": [
  {
   "cell_type": "markdown",
   "metadata": {
    "collapsed": true,
    "pycharm": {
     "name": "#%% md\n"
    }
   },
   "source": [
    "# Monolingual sentence comparison\n",
    "\n",
    "Although this library was created with the intention of comparing syntactic structures between languages, it can also\n",
    " be used to compare two sentences in the same language. This is for instance useful when comparing different\n",
    " translations of the same text, comparing a post-edited or revised version with the original, or compare a machine\n",
    " translation with a reference translation.\n",
    "\n",
    "In this case, we do not necessarily need Universal Dependencies\n",
    " to be able to compare languages. So instead of using stanza, which used the UD annotation schema, we can use any other\n",
    " parser as well. This library provides built-in support for stanza and spaCy, so in this example we will make use of\n",
    " spaCy."
   ]
  },
  {
   "cell_type": "code",
   "execution_count": 1,
   "outputs": [
    {
     "name": "stdout",
     "output_type": "stream",
     "text": [
      "Requirement already satisfied: astred[spacy] in c:\\dev\\python\\astred (0.9.4)\n",
      "Requirement already satisfied: apted in c:\\users\\bramv\\.virtualenvs\\astred-jt9ebbch\\lib\\site-packages (from astred[spacy]) (1.0.3)\n",
      "Requirement already satisfied: nltk in c:\\users\\bramv\\.virtualenvs\\astred-jt9ebbch\\lib\\site-packages (from astred[spacy]) (3.5)\n",
      "Requirement already satisfied: spacy>=3.0 in c:\\users\\bramv\\.virtualenvs\\astred-jt9ebbch\\lib\\site-packages (from astred[spacy]) (3.0.5)\n",
      "Requirement already satisfied: requests<3.0.0,>=2.13.0 in c:\\users\\bramv\\.virtualenvs\\astred-jt9ebbch\\lib\\site-packages (from spacy>=3.0->astred[spacy]) (2.25.1)\n",
      "Requirement already satisfied: murmurhash<1.1.0,>=0.28.0 in c:\\users\\bramv\\.virtualenvs\\astred-jt9ebbch\\lib\\site-packages (from spacy>=3.0->astred[spacy]) (1.0.5)\n",
      "Requirement already satisfied: catalogue<2.1.0,>=2.0.1 in c:\\users\\bramv\\.virtualenvs\\astred-jt9ebbch\\lib\\site-packages (from spacy>=3.0->astred[spacy]) (2.0.1)\n",
      "Requirement already satisfied: jinja2 in c:\\users\\bramv\\.virtualenvs\\astred-jt9ebbch\\lib\\site-packages (from spacy>=3.0->astred[spacy]) (2.11.3)\n",
      "Requirement already satisfied: pathy>=0.3.5 in c:\\users\\bramv\\.virtualenvs\\astred-jt9ebbch\\lib\\site-packages (from spacy>=3.0->astred[spacy]) (0.4.0)\n",
      "Requirement already satisfied: wasabi<1.1.0,>=0.8.1 in c:\\users\\bramv\\.virtualenvs\\astred-jt9ebbch\\lib\\site-packages (from spacy>=3.0->astred[spacy]) (0.8.2)\n",
      "Requirement already satisfied: thinc<8.1.0,>=8.0.2 in c:\\users\\bramv\\.virtualenvs\\astred-jt9ebbch\\lib\\site-packages (from spacy>=3.0->astred[spacy]) (8.0.2)\n",
      "Requirement already satisfied: tqdm<5.0.0,>=4.38.0 in c:\\users\\bramv\\.virtualenvs\\astred-jt9ebbch\\lib\\site-packages (from spacy>=3.0->astred[spacy]) (4.59.0)\n",
      "Requirement already satisfied: setuptools in c:\\users\\bramv\\.virtualenvs\\astred-jt9ebbch\\lib\\site-packages (from spacy>=3.0->astred[spacy]) (54.1.2)\n",
      "Requirement already satisfied: numpy>=1.15.0 in c:\\users\\bramv\\.virtualenvs\\astred-jt9ebbch\\lib\\site-packages (from spacy>=3.0->astred[spacy]) (1.20.2)\n",
      "Requirement already satisfied: packaging>=20.0 in c:\\users\\bramv\\.virtualenvs\\astred-jt9ebbch\\lib\\site-packages (from spacy>=3.0->astred[spacy]) (20.9)\n",
      "Requirement already satisfied: preshed<3.1.0,>=3.0.2 in c:\\users\\bramv\\.virtualenvs\\astred-jt9ebbch\\lib\\site-packages (from spacy>=3.0->astred[spacy]) (3.0.5)\n",
      "Requirement already satisfied: typer<0.4.0,>=0.3.0 in c:\\users\\bramv\\.virtualenvs\\astred-jt9ebbch\\lib\\site-packages (from spacy>=3.0->astred[spacy]) (0.3.2)\n",
      "Requirement already satisfied: cymem<2.1.0,>=2.0.2 in c:\\users\\bramv\\.virtualenvs\\astred-jt9ebbch\\lib\\site-packages (from spacy>=3.0->astred[spacy]) (2.0.5)\n",
      "Requirement already satisfied: blis<0.8.0,>=0.4.0 in c:\\users\\bramv\\.virtualenvs\\astred-jt9ebbch\\lib\\site-packages (from spacy>=3.0->astred[spacy]) (0.7.4)\n",
      "Requirement already satisfied: srsly<3.0.0,>=2.4.0 in c:\\users\\bramv\\.virtualenvs\\astred-jt9ebbch\\lib\\site-packages (from spacy>=3.0->astred[spacy]) (2.4.0)\n",
      "Requirement already satisfied: pydantic<1.8.0,>=1.7.1 in c:\\users\\bramv\\.virtualenvs\\astred-jt9ebbch\\lib\\site-packages (from spacy>=3.0->astred[spacy]) (1.7.3)\n",
      "Requirement already satisfied: spacy-legacy<3.1.0,>=3.0.0 in c:\\users\\bramv\\.virtualenvs\\astred-jt9ebbch\\lib\\site-packages (from spacy>=3.0->astred[spacy]) (3.0.1)\n",
      "Requirement already satisfied: pyparsing>=2.0.2 in c:\\users\\bramv\\.virtualenvs\\astred-jt9ebbch\\lib\\site-packages (from packaging>=20.0->spacy>=3.0->astred[spacy]) (2.4.7)\n",
      "Requirement already satisfied: smart-open<4.0.0,>=2.2.0 in c:\\users\\bramv\\.virtualenvs\\astred-jt9ebbch\\lib\\site-packages (from pathy>=0.3.5->spacy>=3.0->astred[spacy]) (3.0.0)\n",
      "Requirement already satisfied: urllib3<1.27,>=1.21.1 in c:\\users\\bramv\\.virtualenvs\\astred-jt9ebbch\\lib\\site-packages (from requests<3.0.0,>=2.13.0->spacy>=3.0->astred[spacy]) (1.26.4)\n",
      "Requirement already satisfied: idna<3,>=2.5 in c:\\users\\bramv\\.virtualenvs\\astred-jt9ebbch\\lib\\site-packages (from requests<3.0.0,>=2.13.0->spacy>=3.0->astred[spacy]) (2.10)\n",
      "Requirement already satisfied: certifi>=2017.4.17 in c:\\users\\bramv\\.virtualenvs\\astred-jt9ebbch\\lib\\site-packages (from requests<3.0.0,>=2.13.0->spacy>=3.0->astred[spacy]) (2020.12.5)\n",
      "Requirement already satisfied: chardet<5,>=3.0.2 in c:\\users\\bramv\\.virtualenvs\\astred-jt9ebbch\\lib\\site-packages (from requests<3.0.0,>=2.13.0->spacy>=3.0->astred[spacy]) (4.0.0)\n",
      "Requirement already satisfied: click<7.2.0,>=7.1.1 in c:\\users\\bramv\\.virtualenvs\\astred-jt9ebbch\\lib\\site-packages (from typer<0.4.0,>=0.3.0->spacy>=3.0->astred[spacy]) (7.1.2)\n",
      "Requirement already satisfied: MarkupSafe>=0.23 in c:\\users\\bramv\\.virtualenvs\\astred-jt9ebbch\\lib\\site-packages (from jinja2->spacy>=3.0->astred[spacy]) (1.1.1)\n",
      "Requirement already satisfied: joblib in c:\\users\\bramv\\.virtualenvs\\astred-jt9ebbch\\lib\\site-packages (from nltk->astred[spacy]) (1.0.1)\n",
      "Requirement already satisfied: regex in c:\\users\\bramv\\.virtualenvs\\astred-jt9ebbch\\lib\\site-packages (from nltk->astred[spacy]) (2021.3.17)\n"
     ]
    }
   ],
   "source": [
    "!pip install astred[spacy]"
   ],
   "metadata": {
    "collapsed": false,
    "pycharm": {
     "name": "#%%\n"
    }
   }
  },
  {
   "cell_type": "code",
   "execution_count": 2,
   "outputs": [],
   "source": [
    "from astred import AlignedSentences, Sentence\n",
    "from astred.utils import load_parser\n",
    "\n",
    "# Just for this notebook, we do not want to be bothered with spaCy's UserWarnings\n",
    "import warnings\n",
    "warnings.simplefilter(\"ignore\", UserWarning)"
   ],
   "metadata": {
    "collapsed": false,
    "pycharm": {
     "name": "#%%\n"
    }
   }
  },
  {
   "cell_type": "markdown",
   "source": [
    "The default English spaCy models do not make use of Universal Dependencies, but since we are comparing two sentences in\n",
    " the same language, parsed with the same parser, that is not an issue: the tags and labels are comparable.\n",
    "\n",
    "When using spaCy, models must be downloaded manually, though. When you use stanza in `astred` you can simply provide\n",
    " the language code and the required models will be downloaded behind the scenes. That is not possible with spaCy.\n"
   ],
   "metadata": {
    "collapsed": false,
    "pycharm": {
     "name": "#%% md\n"
    }
   }
  },
  {
   "cell_type": "code",
   "execution_count": 3,
   "outputs": [
    {
     "name": "stdout",
     "output_type": "stream",
     "text": [
      "Collecting en-core-web-sm==3.0.0\n",
      "  Using cached https://github.com/explosion/spacy-models/releases/download/en_core_web_sm-3.0.0/en_core_web_sm-3.0.0-py3-none-any.whl (13.7 MB)\n",
      "Requirement already satisfied: spacy<3.1.0,>=3.0.0 in c:\\users\\bramv\\.virtualenvs\\astred-jt9ebbch\\lib\\site-packages (from en-core-web-sm==3.0.0) (3.0.5)\n",
      "Requirement already satisfied: pydantic<1.8.0,>=1.7.1 in c:\\users\\bramv\\.virtualenvs\\astred-jt9ebbch\\lib\\site-packages (from spacy<3.1.0,>=3.0.0->en-core-web-sm==3.0.0) (1.7.3)\n",
      "Requirement already satisfied: srsly<3.0.0,>=2.4.0 in c:\\users\\bramv\\.virtualenvs\\astred-jt9ebbch\\lib\\site-packages (from spacy<3.1.0,>=3.0.0->en-core-web-sm==3.0.0) (2.4.0)\n",
      "Requirement already satisfied: typer<0.4.0,>=0.3.0 in c:\\users\\bramv\\.virtualenvs\\astred-jt9ebbch\\lib\\site-packages (from spacy<3.1.0,>=3.0.0->en-core-web-sm==3.0.0) (0.3.2)\n",
      "Requirement already satisfied: catalogue<2.1.0,>=2.0.1 in c:\\users\\bramv\\.virtualenvs\\astred-jt9ebbch\\lib\\site-packages (from spacy<3.1.0,>=3.0.0->en-core-web-sm==3.0.0) (2.0.1)\n",
      "Requirement already satisfied: preshed<3.1.0,>=3.0.2 in c:\\users\\bramv\\.virtualenvs\\astred-jt9ebbch\\lib\\site-packages (from spacy<3.1.0,>=3.0.0->en-core-web-sm==3.0.0) (3.0.5)\n",
      "Requirement already satisfied: wasabi<1.1.0,>=0.8.1 in c:\\users\\bramv\\.virtualenvs\\astred-jt9ebbch\\lib\\site-packages (from spacy<3.1.0,>=3.0.0->en-core-web-sm==3.0.0) (0.8.2)\n",
      "Requirement already satisfied: setuptools in c:\\users\\bramv\\.virtualenvs\\astred-jt9ebbch\\lib\\site-packages (from spacy<3.1.0,>=3.0.0->en-core-web-sm==3.0.0) (54.1.2)\n",
      "Requirement already satisfied: murmurhash<1.1.0,>=0.28.0 in c:\\users\\bramv\\.virtualenvs\\astred-jt9ebbch\\lib\\site-packages (from spacy<3.1.0,>=3.0.0->en-core-web-sm==3.0.0) (1.0.5)\n",
      "Requirement already satisfied: numpy>=1.15.0 in c:\\users\\bramv\\.virtualenvs\\astred-jt9ebbch\\lib\\site-packages (from spacy<3.1.0,>=3.0.0->en-core-web-sm==3.0.0) (1.20.2)\n",
      "Requirement already satisfied: packaging>=20.0 in c:\\users\\bramv\\.virtualenvs\\astred-jt9ebbch\\lib\\site-packages (from spacy<3.1.0,>=3.0.0->en-core-web-sm==3.0.0) (20.9)\n",
      "Requirement already satisfied: blis<0.8.0,>=0.4.0 in c:\\users\\bramv\\.virtualenvs\\astred-jt9ebbch\\lib\\site-packages (from spacy<3.1.0,>=3.0.0->en-core-web-sm==3.0.0) (0.7.4)\n",
      "Requirement already satisfied: requests<3.0.0,>=2.13.0 in c:\\users\\bramv\\.virtualenvs\\astred-jt9ebbch\\lib\\site-packages (from spacy<3.1.0,>=3.0.0->en-core-web-sm==3.0.0) (2.25.1)\n",
      "Requirement already satisfied: thinc<8.1.0,>=8.0.2 in c:\\users\\bramv\\.virtualenvs\\astred-jt9ebbch\\lib\\site-packages (from spacy<3.1.0,>=3.0.0->en-core-web-sm==3.0.0) (8.0.2)\n",
      "Requirement already satisfied: cymem<2.1.0,>=2.0.2 in c:\\users\\bramv\\.virtualenvs\\astred-jt9ebbch\\lib\\site-packages (from spacy<3.1.0,>=3.0.0->en-core-web-sm==3.0.0) (2.0.5)\n",
      "Requirement already satisfied: tqdm<5.0.0,>=4.38.0 in c:\\users\\bramv\\.virtualenvs\\astred-jt9ebbch\\lib\\site-packages (from spacy<3.1.0,>=3.0.0->en-core-web-sm==3.0.0) (4.59.0)\n",
      "Requirement already satisfied: pathy>=0.3.5 in c:\\users\\bramv\\.virtualenvs\\astred-jt9ebbch\\lib\\site-packages (from spacy<3.1.0,>=3.0.0->en-core-web-sm==3.0.0) (0.4.0)\n",
      "Requirement already satisfied: spacy-legacy<3.1.0,>=3.0.0 in c:\\users\\bramv\\.virtualenvs\\astred-jt9ebbch\\lib\\site-packages (from spacy<3.1.0,>=3.0.0->en-core-web-sm==3.0.0) (3.0.1)\n",
      "Requirement already satisfied: jinja2 in c:\\users\\bramv\\.virtualenvs\\astred-jt9ebbch\\lib\\site-packages (from spacy<3.1.0,>=3.0.0->en-core-web-sm==3.0.0) (2.11.3)\n",
      "Requirement already satisfied: pyparsing>=2.0.2 in c:\\users\\bramv\\.virtualenvs\\astred-jt9ebbch\\lib\\site-packages (from packaging>=20.0->spacy<3.1.0,>=3.0.0->en-core-web-sm==3.0.0) (2.4.7)\n",
      "Requirement already satisfied: smart-open<4.0.0,>=2.2.0 in c:\\users\\bramv\\.virtualenvs\\astred-jt9ebbch\\lib\\site-packages (from pathy>=0.3.5->spacy<3.1.0,>=3.0.0->en-core-web-sm==3.0.0) (3.0.0)\n",
      "Requirement already satisfied: idna<3,>=2.5 in c:\\users\\bramv\\.virtualenvs\\astred-jt9ebbch\\lib\\site-packages (from requests<3.0.0,>=2.13.0->spacy<3.1.0,>=3.0.0->en-core-web-sm==3.0.0) (2.10)\n",
      "Requirement already satisfied: chardet<5,>=3.0.2 in c:\\users\\bramv\\.virtualenvs\\astred-jt9ebbch\\lib\\site-packages (from requests<3.0.0,>=2.13.0->spacy<3.1.0,>=3.0.0->en-core-web-sm==3.0.0) (4.0.0)\n",
      "Requirement already satisfied: certifi>=2017.4.17 in c:\\users\\bramv\\.virtualenvs\\astred-jt9ebbch\\lib\\site-packages (from requests<3.0.0,>=2.13.0->spacy<3.1.0,>=3.0.0->en-core-web-sm==3.0.0) (2020.12.5)\n",
      "Requirement already satisfied: urllib3<1.27,>=1.21.1 in c:\\users\\bramv\\.virtualenvs\\astred-jt9ebbch\\lib\\site-packages (from requests<3.0.0,>=2.13.0->spacy<3.1.0,>=3.0.0->en-core-web-sm==3.0.0) (1.26.4)\n",
      "Requirement already satisfied: click<7.2.0,>=7.1.1 in c:\\users\\bramv\\.virtualenvs\\astred-jt9ebbch\\lib\\site-packages (from typer<0.4.0,>=0.3.0->spacy<3.1.0,>=3.0.0->en-core-web-sm==3.0.0) (7.1.2)\n",
      "Requirement already satisfied: MarkupSafe>=0.23 in c:\\users\\bramv\\.virtualenvs\\astred-jt9ebbch\\lib\\site-packages (from jinja2->spacy<3.1.0,>=3.0.0->en-core-web-sm==3.0.0) (1.1.1)\n",
      "[+] Download and installation successful\n",
      "You can now load the package via spacy.load('en_core_web_sm')\n"
     ]
    }
   ],
   "source": [
    "# Download a default, English spaCy models\n",
    "!python -m spacy download en_core_web_sm"
   ],
   "metadata": {
    "collapsed": false,
    "pycharm": {
     "name": "#%%\n"
    }
   }
  },
  {
   "cell_type": "markdown",
   "source": [
    "The only thing that is different from what is shown in the other examples, is that here we explicitly pass an\n",
    " initialized spaCy parser to `.from_text()` instead of a language code. We could have written\n",
    " `.from_text(\"<text>\", \"en\")` but that means that for both these sentences the parser will be loaded. That is quite\n",
    " some overhead! If you need to parse multiple sentences with the same parser (language), it is best to first create the\n",
    " parser and pass that parser to `.from_text()`, as we do in this example.\n",
    "\n",
    "The spaCy parser can be created with `spacy.load()`, but as an example we will use the method `load_parser()`, which\n",
    " can also be used to initialize a stanza parser."
   ],
   "metadata": {
    "collapsed": false,
    "pycharm": {
     "name": "#%% md\n"
    }
   }
  },
  {
   "cell_type": "code",
   "execution_count": 4,
   "outputs": [],
   "source": [
    "nlp = load_parser(\"en_core_web_sm\", \"spacy\")\n",
    "src_sent = Sentence.from_text(\"I saw the director hiding a lot of documents at night !\", nlp)\n",
    "tgt_sent = Sentence.from_text(\"Last night , the director was hiding a lot of our papers .\", nlp)\n",
    "aligns = \"2-3 3-4 4-5 4-6 5-7 6-8 7-9 8-10 8-11 9-0 9-1 10-0 10-1 11-12\"\n",
    "\n",
    "aligned = AlignedSentences(src_sent, tgt_sent, word_aligns=aligns)"
   ],
   "metadata": {
    "collapsed": false,
    "pycharm": {
     "name": "#%%\n"
    }
   }
  },
  {
   "cell_type": "markdown",
   "source": [
    "You'll notice that not all words can be aligned, perhaps because different translators to show a different perspective.\n",
    " Particularly, \"I saw\" is not aligned on the source side. If a word is not aligned, it is implicitly connected to a\n",
    " NULL word. after creating the `AlignedSentences` object, the source and target sentence receive a NULL element at the\n",
    " front to which \"unaligned words\" are then connected. For a given word you can check whether it is aligned with\n",
    " `is_aligned` and if it is, you can easily get its aligned words. To iterate the words of a sentence without including\n",
    " the NULL word, we can use `Sentence.no_null_words`.\n",
    "\n",
    "In this example we will display for each source word its aligned target words."
   ],
   "metadata": {
    "collapsed": false,
    "pycharm": {
     "name": "#%% md\n"
    }
   }
  },
  {
   "cell_type": "code",
   "execution_count": 5,
   "outputs": [
    {
     "name": "stdout",
     "output_type": "stream",
     "text": [
      "the the\n",
      "director director\n",
      "hiding was hiding\n",
      "a a\n",
      "lot lot\n",
      "of of\n",
      "documents our papers\n",
      "at Last night\n",
      "night Last night\n",
      "! .\n"
     ]
    }
   ],
   "source": [
    "for src_word in src_sent.no_null_words:\n",
    "\tif not src_word.is_aligned:\n",
    "\t\tcontinue\n",
    "\tprint(src_word.text, \" \".join([tgt_word.text for tgt_word in src_word.aligned]))"
   ],
   "metadata": {
    "collapsed": false,
    "pycharm": {
     "name": "#%%\n"
    }
   }
  },
  {
   "cell_type": "markdown",
   "source": [
    "You can also easily find whether any of a word's tags have changed compared to its aligned words:"
   ],
   "metadata": {
    "collapsed": false,
    "pycharm": {
     "name": "#%% md\n"
    }
   }
  },
  {
   "cell_type": "code",
   "execution_count": 6,
   "outputs": [
    {
     "name": "stdout",
     "output_type": "stream",
     "text": [
      "DEPENDENCIES\n",
      "SAME: the (det) the (det)\n",
      "PART-OF-SPEECH\n",
      "SAME: the (DT) the (DT)\n",
      "---\n",
      "DEPENDENCIES\n",
      "SAME: director (nsubj) director (nsubj)\n",
      "PART-OF-SPEECH\n",
      "SAME: director (NN) director (NN)\n",
      "---\n",
      "DEPENDENCIES\n",
      "CHANGE: hiding (ccomp) was (aux)\n",
      "CHANGE: hiding (ccomp) hiding (ROOT)\n",
      "PART-OF-SPEECH\n",
      "CHANGE: hiding (VBG) was (VBD)\n",
      "SAME: hiding (VBG) hiding (VBG)\n",
      "---\n",
      "DEPENDENCIES\n",
      "SAME: a (det) a (det)\n",
      "PART-OF-SPEECH\n",
      "SAME: a (DT) a (DT)\n",
      "---\n",
      "DEPENDENCIES\n",
      "SAME: lot (dobj) lot (dobj)\n",
      "PART-OF-SPEECH\n",
      "SAME: lot (NN) lot (NN)\n",
      "---\n",
      "DEPENDENCIES\n",
      "SAME: of (prep) of (prep)\n",
      "PART-OF-SPEECH\n",
      "SAME: of (IN) of (IN)\n",
      "---\n",
      "DEPENDENCIES\n",
      "CHANGE: documents (pobj) our (poss)\n",
      "SAME: documents (pobj) papers (pobj)\n",
      "PART-OF-SPEECH\n",
      "CHANGE: documents (NNS) our (PRP$)\n",
      "SAME: documents (NNS) papers (NNS)\n",
      "---\n",
      "DEPENDENCIES\n",
      "CHANGE: at (prep) Last (amod)\n",
      "CHANGE: at (prep) night (npadvmod)\n",
      "PART-OF-SPEECH\n",
      "CHANGE: at (IN) Last (JJ)\n",
      "CHANGE: at (IN) night (NN)\n",
      "---\n",
      "DEPENDENCIES\n",
      "CHANGE: night (pobj) Last (amod)\n",
      "CHANGE: night (pobj) night (npadvmod)\n",
      "PART-OF-SPEECH\n",
      "CHANGE: night (NN) Last (JJ)\n",
      "SAME: night (NN) night (NN)\n",
      "---\n",
      "DEPENDENCIES\n",
      "SAME: ! (punct) . (punct)\n",
      "PART-OF-SPEECH\n",
      "SAME: ! (.) . (.)\n",
      "---\n"
     ]
    }
   ],
   "source": [
    "for src_word in src_sent.no_null_words:\n",
    "\tif not src_word.is_aligned:\n",
    "\t\tcontinue\n",
    "\n",
    "\tprint(\"DEPENDENCIES\")\n",
    "\tfor tgt_id, change in src_word.changes(\"deprel\").items():\n",
    "\t\ttgt_word = tgt_sent[tgt_id]\n",
    "\t\tprint(\"CHANGE:\" if change else \"SAME:\", f\"{src_word.text} ({src_word.deprel})\", f\"{tgt_word.text} ({tgt_word.deprel})\")\n",
    "\n",
    "\tprint(\"PART-OF-SPEECH\")\n",
    "\tfor tgt_id, change in src_word.changes(\"xpos\").items():\n",
    "\t\ttgt_word = tgt_sent[tgt_id]\n",
    "\t\tprint(\"CHANGE:\" if change else \"SAME:\", f\"{src_word.text} ({src_word.xpos})\", f\"{tgt_word.text} ({tgt_word.xpos})\")\n",
    "\tprint(\"---\")\n"
   ],
   "metadata": {
    "collapsed": false,
    "pycharm": {
     "name": "#%%\n"
    }
   }
  },
  {
   "cell_type": "markdown",
   "source": [
    "Sentences can be represented as linguistic \"trees\". Here, we make use of dependency trees to formalize the structure of\n",
    " the sentences. As such, it is interesting to find differences between these structures. This is typically done with\n",
    " tree edit distance, but in our paper we suggest ASTrED (aligned syntactic tree edit distance), which also takes word\n",
    " alignment information into account during the tree edit distance calculation.\n",
    "\n",
    "We can also check which structural changes need to happen to convert the source dependency tree to the target tree\n",
    " quite easily. In `aligned.ted_ops` the operations are saved that are necessary to make the conversion. This is in\n",
    " fact a list of tuples of a source and target sub `Tree`s. The comments in the cell below explain this further.\n",
    " Note again that this is not calculated based on regular tree edit distance, but with ASTrED. For the argumentation\n",
    " behind ASTrED, see our paper but the main goal is to ensure that only aligned elements can match each other to avoid\n",
    " \"accidental\" structural overlap to bias the outcome."
   ],
   "metadata": {
    "collapsed": false,
    "pycharm": {
     "name": "#%% md\n"
    }
   }
  },
  {
   "cell_type": "code",
   "execution_count": 7,
   "outputs": [
    {
     "name": "stdout",
     "output_type": "stream",
     "text": [
      "Edit distance: 8\n",
      "SUBSTITUTION saw --> hiding\n",
      "DELETION: hiding (src)\n",
      "DELETION: at (src)\n",
      "DELETION: night (src)\n",
      "INSERTION: was (tgt)\n",
      "INSERTION: night (tgt)\n",
      "INSERTION: Last (tgt)\n",
      "SUBSTITUTION I --> ,\n",
      "MATCH director === director\n",
      "MATCH the === the\n",
      "MATCH lot === lot\n",
      "MATCH a === a\n",
      "MATCH of === of\n",
      "INSERTION: papers (tgt)\n",
      "SUBSTITUTION documents --> our\n",
      "SUBSTITUTION ! --> .\n"
     ]
    }
   ],
   "source": [
    "print(\"Edit distance:\", aligned.ted)\n",
    "for operation in aligned.ted_ops:\n",
    "\tsrc_node, tgt_node = operation\n",
    "\tsrc_text = src_node.node.text if src_node else None\n",
    "\ttgt_text = tgt_node.node.text if tgt_node else None\n",
    "\n",
    "\t# If both a source and target element are present in this operation...\n",
    "\tif src_text and tgt_text:\n",
    "\t\t# ... that can mean they match, or ...\n",
    "\t\tif src_text == tgt_text:\n",
    "\t\t\tprint(\"MATCH\", src_text, \"===\", tgt_text)\n",
    "\t\t# ... that a source element has been replaced by a target element\n",
    "\t\telse:\n",
    "\t\t\tprint(\"SUBSTITUTION\", src_text, \"-->\", tgt_text)\n",
    "\t# If only a source element is present, and no target, then that means the source element was deleted\n",
    "\telif src_text:\n",
    "\t\tprint(\"DELETION:\", f\"{src_text} (src)\")\n",
    "\t# If only a target element is present, and no source, then that means the target element was inserted\n",
    "\telif tgt_text:\n",
    "\t\tprint(\"INSERTION:\", f\"{tgt_text} (tgt)\")"
   ],
   "metadata": {
    "collapsed": false,
    "pycharm": {
     "name": "#%%\n"
    }
   }
  },
  {
   "cell_type": "markdown",
   "source": [
    "Because we have access to the underlying Token that spaCy produced, we can now also do some pretty neat stuff, like\n",
    " calculating the semantic similarity between a source word and its aligned word(s). In this case, we can see that\n",
    " there is a reasonable similarity between \"documents\" and \"papers\"."
   ],
   "metadata": {
    "collapsed": false,
    "pycharm": {
     "name": "#%% md\n"
    }
   }
  },
  {
   "cell_type": "code",
   "execution_count": 8,
   "outputs": [
    {
     "name": "stdout",
     "output_type": "stream",
     "text": [
      "the the 1.0\n",
      "director director 1.0\n",
      "hiding was 0.16484383\n",
      "hiding hiding 1.0\n",
      "a a 1.0\n",
      "lot lot 1.0\n",
      "of of 1.0\n",
      "documents our -0.00042243474\n",
      "documents papers 0.6571306\n",
      "at Last 0.17158762\n",
      "at night -0.031542435\n",
      "night Last 0.010333299\n",
      "night night 1.0\n",
      "! . 0.91295487\n"
     ]
    }
   ],
   "source": [
    "# Loop over the source words as before\n",
    "for src_word in src_sent.no_null_words:\n",
    "\t# Skip words that are not aligned\n",
    "\tif not src_word.is_aligned:\n",
    "\t\tcontinue\n",
    "\n",
    "\tspacy_src = src_word._word\n",
    "\tfor tgt_word in src_word.aligned:\n",
    "\t\tspacy_tgt = tgt_word._word\n",
    "\t\tprint(src_word.text, tgt_word.text, spacy_src.similarity(spacy_tgt))\n",
    "\n"
   ],
   "metadata": {
    "collapsed": false,
    "pycharm": {
     "name": "#%%\n"
    }
   }
  }
 ],
 "metadata": {
  "kernelspec": {
   "display_name": "Python 3",
   "language": "python",
   "name": "python3"
  },
  "language_info": {
   "codemirror_mode": {
    "name": "ipython",
    "version": 2
   },
   "file_extension": ".py",
   "mimetype": "text/x-python",
   "name": "python",
   "nbconvert_exporter": "python",
   "pygments_lexer": "ipython2",
   "version": "2.7.6"
  }
 },
 "nbformat": 4,
 "nbformat_minor": 0
}