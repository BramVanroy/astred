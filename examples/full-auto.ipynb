{
 "cells": [
  {
   "cell_type": "markdown",
   "source": [
    "In this notebook, we will use ASTrED in full-auto mode. That means that tokenisation, parsing, and word alignment all\n",
    " happen automatically. This is easy, but slow and likely less accurate than manual annotation. I would especially\n",
    " encourage you to use manual word alignments. But in this example, we show that you _can_ do it all automatically,\n",
    " which may be useful for large parallel corpus studies."
   ],
   "metadata": {
    "collapsed": false,
    "pycharm": {
     "name": "#%% md\n"
    }
   }
  },
  {
   "cell_type": "code",
   "execution_count": 1,
   "outputs": [],
   "source": [
    "from astred import AlignedSentences, Sentence"
   ],
   "metadata": {
    "collapsed": false,
    "pycharm": {
     "name": "#%%\n"
    }
   }
  },
  {
   "cell_type": "markdown",
   "source": [
    "By default, the library assumes that the text that you provide is pretokenised and that words are separated by spaces.\n",
    " If that is not the case, we need to set `is_tokenised` to `False`.\n",
    "\n",
    "In the cell below, you'll notice that we do not provide any word alignment information to the `AlignedSentences`\n",
    " constructor. What is actually happening, is that - if no word alignments are provided -, an automatic aligner is\n",
    " instantiated which aligns the given source and target tokens. To do that we rely on a fork of AwesomeAlign\n",
    " (see the README), which is a multilingual, neural aligner."
   ],
   "metadata": {
    "collapsed": false,
    "pycharm": {
     "name": "#%% md\n"
    }
   }
  },
  {
   "cell_type": "code",
   "execution_count": 2,
   "outputs": [],
   "source": [
    "sent_en = Sentence.from_text(\"Yesterday, I ate some cookies.\", \"en\", is_tokenized=False)\n",
    "sent_nl = Sentence.from_text(\"Ik at gisteren wat koekjes.\", \"nl\", is_tokenized=False)\n",
    "\n",
    "aligned = AlignedSentences(sent_en, sent_nl)"
   ],
   "metadata": {
    "collapsed": false,
    "pycharm": {
     "name": "#%%\n"
    }
   }
  },
  {
   "cell_type": "markdown",
   "source": [
    "As you can see below, these alignments are good - but not great. All alignments are correct, but the alignment between\n",
    "\"Yesterday\" and \"gisteren\" is missing. The tokenizer did a perfect job, however!"
   ],
   "metadata": {
    "collapsed": false,
    "pycharm": {
     "name": "#%% md\n"
    }
   }
  },
  {
   "cell_type": "code",
   "execution_count": 3,
   "outputs": [
    {
     "name": "stdout",
     "output_type": "stream",
     "text": [
      "Yesterday , I ate some cookies .\n",
      "Ik at gisteren wat koekjes .\n",
      "2-0 3-1 4-3 5-4 6-5\n"
     ]
    }
   ],
   "source": [
    "print(aligned.src.text)\n",
    "print(aligned.tgt.text)\n",
    "print(aligned.giza_word_aligns)"
   ],
   "metadata": {
    "collapsed": false,
    "pycharm": {
     "name": "#%%\n"
    }
   }
  },
  {
   "cell_type": "markdown",
   "source": [
    "We can also display the dependency trees to have a look at how well the automatic parser did. `stanza`\n",
    " (the parser) did a perfect job. The difference between `obl` for \"Yesterday\" and `advmod` for \"gisteren\" is open\n",
    " for discussion: `obl` is used for noun (phrases) and `advmod` for adverbs. Even on a theoretical level you can debate\n",
    " whether \"yesterday\" and \"gisteren\" are nouns or adverbs, but I'll leave that up to the theorists.\n",
    "\n",
    "Note how the trees display both the text and the dependency relation? You can specify whichever attribute of a `Word`\n",
    " that you want to (e.g. `upos`, `id`, `head` and so on) to `attrs` and it will be included in the tree."
   ],
   "metadata": {
    "collapsed": false,
    "pycharm": {
     "name": "#%% md\n"
    }
   }
  },
  {
   "cell_type": "code",
   "execution_count": 4,
   "outputs": [
    {
     "data": {
      "text/plain": "Tree('ate:root', [Tree('Yesterday:obl', []), Tree(',:punct', []), Tree('I:nsubj', []), Tree('cookies:obj', [Tree('some:det', [])]), Tree('.:punct', [])])",
      "image/png": "[encoded data removed]"
     },
     "metadata": {},
     "output_type": "display_data"
    },
    {
     "data": {
      "text/plain": "Tree('at:root', [Tree('Ik:nsubj', []), Tree('gisteren:advmod', []), Tree('koekjes:obj', [Tree('wat:det', [])]), Tree('.:punct', [])])",
      "image/png": "[encoded data removed]"
     },
     "metadata": {},
     "output_type": "display_data"
    }
   ],
   "source": [
    "from nltk.tree import Tree as NltkTree\n",
    "from IPython.display import display\n",
    "\n",
    "display(NltkTree.fromstring(sent_en.tree.to_string(attrs=[\"text\", \"deprel\"])))\n",
    "display(NltkTree.fromstring(sent_nl.tree.to_string(attrs=[\"text\", \"deprel\"])))"
   ],
   "metadata": {
    "collapsed": false,
    "pycharm": {
     "name": "#%%\n"
    }
   }
  },
  {
   "cell_type": "markdown",
   "source": [
    "## Different alignment models\n",
    "\n",
    "As a default, the aligner will make use of the pretrained model `bert-base-multilingual-cased`. This will be downloaded\n",
    " automatically behind the scenes. However, you may choose to train/finetune your own model, or download\n",
    " [pre-existing ones](https://github.com/neulab/awesome-align#model-performance), and use that instead. If that is the\n",
    " case, you can instantiate an aligner from-scratch and pass that to the `AlignedSentences` constructor, too! This way,\n",
    " the provided aligner will be used instead of the default one that uses `bert-base-multilingual-cased`."
   ],
   "metadata": {
    "collapsed": false,
    "pycharm": {
     "name": "#%% md\n"
    }
   }
  },
  {
   "cell_type": "code",
   "execution_count": 7,
   "outputs": [
    {
     "ename": "OSError",
     "evalue": "Model name 'C:\\path\\to\\your\\custom\\model' was not found in tokenizers model name list (bert-base-uncased, bert-large-uncased, bert-base-cased, bert-large-cased, bert-base-multilingual-uncased, bert-base-multilingual-cased, bert-base-chinese, bert-base-german-cased, bert-large-uncased-whole-word-masking, bert-large-cased-whole-word-masking, bert-large-uncased-whole-word-masking-finetuned-squad, bert-large-cased-whole-word-masking-finetuned-squad, bert-base-cased-finetuned-mrpc, bert-base-german-dbmdz-cased, bert-base-german-dbmdz-uncased, bert-base-finnish-cased-v1, bert-base-finnish-uncased-v1, bert-base-dutch-cased). We assumed 'C:\\path\\to\\your\\custom\\model' was a path, a model identifier, or url to a directory containing vocabulary files named ['vocab.txt'] but couldn't find such vocabulary files at this path or url.",
     "output_type": "error",
     "traceback": [
      "\u001B[1;31m---------------------------------------------------------------------------\u001B[0m",
      "\u001B[1;31mOSError\u001B[0m                                   Traceback (most recent call last)",
      "\u001B[1;32m<ipython-input-7-7c61c7f84419>\u001B[0m in \u001B[0;36m<module>\u001B[1;34m\u001B[0m\n\u001B[0;32m      5\u001B[0m \u001B[0mkwargs\u001B[0m \u001B[1;33m=\u001B[0m \u001B[1;33m{\u001B[0m\u001B[1;34m\"no_cuda\"\u001B[0m\u001B[1;33m:\u001B[0m \u001B[1;32mTrue\u001B[0m\u001B[1;33m}\u001B[0m\u001B[1;33m\u001B[0m\u001B[1;33m\u001B[0m\u001B[0m\n\u001B[0;32m      6\u001B[0m \u001B[1;31m# Provide directory that contains the pytorch_model.bin and other files\u001B[0m\u001B[1;33m\u001B[0m\u001B[1;33m\u001B[0m\u001B[1;33m\u001B[0m\u001B[0m\n\u001B[1;32m----> 7\u001B[1;33m \u001B[0maligner\u001B[0m \u001B[1;33m=\u001B[0m \u001B[0mAligner\u001B[0m\u001B[1;33m(\u001B[0m\u001B[1;34mr\"C:\\path\\to\\your\\custom\\model\"\u001B[0m\u001B[1;33m,\u001B[0m \u001B[1;33m**\u001B[0m\u001B[0mkwargs\u001B[0m\u001B[1;33m)\u001B[0m\u001B[1;33m\u001B[0m\u001B[1;33m\u001B[0m\u001B[0m\n\u001B[0m\u001B[0;32m      8\u001B[0m \u001B[1;33m\u001B[0m\u001B[0m\n\u001B[0;32m      9\u001B[0m \u001B[0msent_en\u001B[0m \u001B[1;33m=\u001B[0m \u001B[0mSentence\u001B[0m\u001B[1;33m.\u001B[0m\u001B[0mfrom_text\u001B[0m\u001B[1;33m(\u001B[0m\u001B[1;34m\"Yesterday, I ate some cookies.\"\u001B[0m\u001B[1;33m,\u001B[0m \u001B[1;34m\"en\"\u001B[0m\u001B[1;33m,\u001B[0m \u001B[0mis_tokenized\u001B[0m\u001B[1;33m=\u001B[0m\u001B[1;32mFalse\u001B[0m\u001B[1;33m)\u001B[0m\u001B[1;33m\u001B[0m\u001B[1;33m\u001B[0m\u001B[0m\n",
      "\u001B[1;32mC:\\dev\\python\\astred\\astred\\aligner.py\u001B[0m in \u001B[0;36m__init__\u001B[1;34m(self, model_name_or_path, extraction, no_cuda, softmax_threshold)\u001B[0m\n",
      "\u001B[1;32mC:\\dev\\python\\astred\\astred\\aligner.py\u001B[0m in \u001B[0;36m__post_init__\u001B[1;34m(self)\u001B[0m\n\u001B[0;32m     27\u001B[0m \u001B[1;33m\u001B[0m\u001B[0m\n\u001B[0;32m     28\u001B[0m         \u001B[0mself\u001B[0m\u001B[1;33m.\u001B[0m\u001B[0mdevice\u001B[0m \u001B[1;33m=\u001B[0m \u001B[0mtorch\u001B[0m\u001B[1;33m.\u001B[0m\u001B[0mdevice\u001B[0m\u001B[1;33m(\u001B[0m\u001B[1;34m\"cuda\"\u001B[0m \u001B[1;32mif\u001B[0m \u001B[0mtorch\u001B[0m\u001B[1;33m.\u001B[0m\u001B[0mcuda\u001B[0m\u001B[1;33m.\u001B[0m\u001B[0mis_available\u001B[0m\u001B[1;33m(\u001B[0m\u001B[1;33m)\u001B[0m \u001B[1;32mand\u001B[0m \u001B[1;32mnot\u001B[0m \u001B[0mself\u001B[0m\u001B[1;33m.\u001B[0m\u001B[0mno_cuda\u001B[0m \u001B[1;32melse\u001B[0m \u001B[1;34m\"cpu\"\u001B[0m\u001B[1;33m)\u001B[0m\u001B[1;33m\u001B[0m\u001B[1;33m\u001B[0m\u001B[0m\n\u001B[1;32m---> 29\u001B[1;33m         \u001B[0mself\u001B[0m\u001B[1;33m.\u001B[0m\u001B[0mtokenizer\u001B[0m \u001B[1;33m=\u001B[0m \u001B[0mBertTokenizer\u001B[0m\u001B[1;33m.\u001B[0m\u001B[0mfrom_pretrained\u001B[0m\u001B[1;33m(\u001B[0m\u001B[0mself\u001B[0m\u001B[1;33m.\u001B[0m\u001B[0mmodel_name_or_path\u001B[0m\u001B[1;33m)\u001B[0m\u001B[1;33m\u001B[0m\u001B[1;33m\u001B[0m\u001B[0m\n\u001B[0m\u001B[0;32m     30\u001B[0m         \u001B[0mself\u001B[0m\u001B[1;33m.\u001B[0m\u001B[0mconfig\u001B[0m \u001B[1;33m=\u001B[0m \u001B[0mBertConfig\u001B[0m\u001B[1;33m.\u001B[0m\u001B[0mfrom_pretrained\u001B[0m\u001B[1;33m(\u001B[0m\u001B[0mself\u001B[0m\u001B[1;33m.\u001B[0m\u001B[0mmodel_name_or_path\u001B[0m\u001B[1;33m)\u001B[0m\u001B[1;33m\u001B[0m\u001B[1;33m\u001B[0m\u001B[0m\n\u001B[0;32m     31\u001B[0m         self.model = BertForMaskedLM.from_pretrained(self.model_name_or_path,\n",
      "\u001B[1;32mc:\\dev\\python\\awesome-align\\awesome_align\\tokenization_utils.py\u001B[0m in \u001B[0;36mfrom_pretrained\u001B[1;34m(cls, *inputs, **kwargs)\u001B[0m\n\u001B[0;32m    388\u001B[0m \u001B[1;33m\u001B[0m\u001B[0m\n\u001B[0;32m    389\u001B[0m         \"\"\"\n\u001B[1;32m--> 390\u001B[1;33m         \u001B[1;32mreturn\u001B[0m \u001B[0mcls\u001B[0m\u001B[1;33m.\u001B[0m\u001B[0m_from_pretrained\u001B[0m\u001B[1;33m(\u001B[0m\u001B[1;33m*\u001B[0m\u001B[0minputs\u001B[0m\u001B[1;33m,\u001B[0m \u001B[1;33m**\u001B[0m\u001B[0mkwargs\u001B[0m\u001B[1;33m)\u001B[0m\u001B[1;33m\u001B[0m\u001B[1;33m\u001B[0m\u001B[0m\n\u001B[0m\u001B[0;32m    391\u001B[0m \u001B[1;33m\u001B[0m\u001B[0m\n\u001B[0;32m    392\u001B[0m     \u001B[1;33m@\u001B[0m\u001B[0mclassmethod\u001B[0m\u001B[1;33m\u001B[0m\u001B[1;33m\u001B[0m\u001B[0m\n",
      "\u001B[1;32mc:\\dev\\python\\awesome-align\\awesome_align\\tokenization_utils.py\u001B[0m in \u001B[0;36m_from_pretrained\u001B[1;34m(cls, pretrained_model_name_or_path, *init_inputs, **kwargs)\u001B[0m\n\u001B[0;32m    484\u001B[0m \u001B[1;33m\u001B[0m\u001B[0m\n\u001B[0;32m    485\u001B[0m         \u001B[1;32mif\u001B[0m \u001B[0mall\u001B[0m\u001B[1;33m(\u001B[0m\u001B[0mfull_file_name\u001B[0m \u001B[1;32mis\u001B[0m \u001B[1;32mNone\u001B[0m \u001B[1;32mfor\u001B[0m \u001B[0mfull_file_name\u001B[0m \u001B[1;32min\u001B[0m \u001B[0mresolved_vocab_files\u001B[0m\u001B[1;33m.\u001B[0m\u001B[0mvalues\u001B[0m\u001B[1;33m(\u001B[0m\u001B[1;33m)\u001B[0m\u001B[1;33m)\u001B[0m\u001B[1;33m:\u001B[0m\u001B[1;33m\u001B[0m\u001B[1;33m\u001B[0m\u001B[0m\n\u001B[1;32m--> 486\u001B[1;33m             raise EnvironmentError(\n\u001B[0m\u001B[0;32m    487\u001B[0m                 \u001B[1;34m\"Model name '{}' was not found in tokenizers model name list ({}). \"\u001B[0m\u001B[1;33m\u001B[0m\u001B[1;33m\u001B[0m\u001B[0m\n\u001B[0;32m    488\u001B[0m                 \u001B[1;34m\"We assumed '{}' was a path, a model identifier, or url to a directory containing vocabulary files \"\u001B[0m\u001B[1;33m\u001B[0m\u001B[1;33m\u001B[0m\u001B[0m\n",
      "\u001B[1;31mOSError\u001B[0m: Model name 'C:\\path\\to\\your\\custom\\model' was not found in tokenizers model name list (bert-base-uncased, bert-large-uncased, bert-base-cased, bert-large-cased, bert-base-multilingual-uncased, bert-base-multilingual-cased, bert-base-chinese, bert-base-german-cased, bert-large-uncased-whole-word-masking, bert-large-cased-whole-word-masking, bert-large-uncased-whole-word-masking-finetuned-squad, bert-large-cased-whole-word-masking-finetuned-squad, bert-base-cased-finetuned-mrpc, bert-base-german-dbmdz-cased, bert-base-german-dbmdz-uncased, bert-base-finnish-cased-v1, bert-base-finnish-uncased-v1, bert-base-dutch-cased). We assumed 'C:\\path\\to\\your\\custom\\model' was a path, a model identifier, or url to a directory containing vocabulary files named ['vocab.txt'] but couldn't find such vocabulary files at this path or url."
     ]
    }
   ],
   "source": [
    "from astred import Aligner\n",
    "\n",
    "# kwargs can contain some options specific to Awesome Aligner. Most important is probably the use of a GPU. By default\n",
    "# a GPU will be used if it is available.\n",
    "kwargs = {\"no_cuda\": True}\n",
    "# Provide directory that contains the pytorch_model.bin and other files\n",
    "aligner = Aligner(r\"C:\\path\\to\\your\\custom\\model\", **kwargs)\n",
    "\n",
    "sent_en = Sentence.from_text(\"Yesterday, I ate some cookies.\", \"en\", is_tokenized=False)\n",
    "sent_nl = Sentence.from_text(\"Ik at gisteren wat koekjes.\", \"nl\", is_tokenized=False)\n",
    "\n",
    "aligned = AlignedSentences(sent_en, sent_nl, aligner=aligner)"
   ],
   "metadata": {
    "collapsed": false,
    "pycharm": {
     "name": "#%%\n"
    }
   }
  }
 ],
 "metadata": {
  "kernelspec": {
   "display_name": "Python 3",
   "language": "python",
   "name": "python3"
  },
  "language_info": {
   "codemirror_mode": {
    "name": "ipython",
    "version": 2
   },
   "file_extension": ".py",
   "mimetype": "text/x-python",
   "name": "python",
   "nbconvert_exporter": "python",
   "pygments_lexer": "ipython2",
   "version": "2.7.6"
  }
 },
 "nbformat": 4,
 "nbformat_minor": 0
}